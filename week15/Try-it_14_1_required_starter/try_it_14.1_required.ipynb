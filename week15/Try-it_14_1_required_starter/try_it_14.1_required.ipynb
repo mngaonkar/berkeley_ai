{
 "cells": [
  {
   "attachments": {},
   "cell_type": "markdown",
   "metadata": {},
   "source": [
    "### Required Try-It Activity 14.1: Generating Overfit Models\n",
    "\n",
    "By default, you scikitlearn tree models will grow until every node is pure.  To explore this, you are to build different models using the `max_depth` parameter and determine when the tree begins to overfit the data.  For depths from `max_depth = 1` until the tree is completed, keep track of the accuracy on training vs. test data and generate a plot with depths as the horizontal axis and accuracy as the vertical axis for train and test data.  \n",
    "\n",
    "Repeat this process with different splits of the data to determine at what depth the tree begins to overfit.  Share your results with your peers and discuss your approach to generating the visualization.  What are the consequences of this overfitting for your approach to building Decision Trees?   We provide a small dataset with health data where your goal is to predict whether or not the individuals survive."
   ]
  },
  {
   "cell_type": "code",
   "execution_count": 324,
   "metadata": {},
   "outputs": [],
   "source": [
    "import pandas as pd\n",
    "from sklearn.tree import DecisionTreeClassifier, plot_tree\n",
    "from sklearn.metrics import accuracy_score\n",
    "import matplotlib.pyplot as plt\n",
    "from sklearn.model_selection import train_test_split, GridSearchCV, RandomizedSearchCV\n",
    "from skopt import BayesSearchCV\n",
    "import time"
   ]
  },
  {
   "cell_type": "code",
   "execution_count": 325,
   "metadata": {},
   "outputs": [],
   "source": [
    "data = pd.read_csv('data/Whickham.txt')"
   ]
  },
  {
   "cell_type": "code",
   "execution_count": 326,
   "metadata": {},
   "outputs": [
    {
     "data": {
      "text/html": [
       "<div>\n",
       "<style scoped>\n",
       "    .dataframe tbody tr th:only-of-type {\n",
       "        vertical-align: middle;\n",
       "    }\n",
       "\n",
       "    .dataframe tbody tr th {\n",
       "        vertical-align: top;\n",
       "    }\n",
       "\n",
       "    .dataframe thead th {\n",
       "        text-align: right;\n",
       "    }\n",
       "</style>\n",
       "<table border=\"1\" class=\"dataframe\">\n",
       "  <thead>\n",
       "    <tr style=\"text-align: right;\">\n",
       "      <th></th>\n",
       "      <th>outcome</th>\n",
       "      <th>smoker</th>\n",
       "      <th>age</th>\n",
       "    </tr>\n",
       "  </thead>\n",
       "  <tbody>\n",
       "    <tr>\n",
       "      <th>0</th>\n",
       "      <td>Alive</td>\n",
       "      <td>Yes</td>\n",
       "      <td>23</td>\n",
       "    </tr>\n",
       "    <tr>\n",
       "      <th>1</th>\n",
       "      <td>Alive</td>\n",
       "      <td>Yes</td>\n",
       "      <td>18</td>\n",
       "    </tr>\n",
       "    <tr>\n",
       "      <th>2</th>\n",
       "      <td>Dead</td>\n",
       "      <td>Yes</td>\n",
       "      <td>71</td>\n",
       "    </tr>\n",
       "    <tr>\n",
       "      <th>3</th>\n",
       "      <td>Alive</td>\n",
       "      <td>No</td>\n",
       "      <td>67</td>\n",
       "    </tr>\n",
       "    <tr>\n",
       "      <th>4</th>\n",
       "      <td>Alive</td>\n",
       "      <td>No</td>\n",
       "      <td>64</td>\n",
       "    </tr>\n",
       "  </tbody>\n",
       "</table>\n",
       "</div>"
      ],
      "text/plain": [
       "  outcome smoker  age\n",
       "0   Alive    Yes   23\n",
       "1   Alive    Yes   18\n",
       "2    Dead    Yes   71\n",
       "3   Alive     No   67\n",
       "4   Alive     No   64"
      ]
     },
     "execution_count": 326,
     "metadata": {},
     "output_type": "execute_result"
    }
   ],
   "source": [
    "data.head()"
   ]
  },
  {
   "cell_type": "code",
   "execution_count": 327,
   "metadata": {},
   "outputs": [],
   "source": [
    "X = data[['smoker', 'age']]\n",
    "y = data['outcome']"
   ]
  },
  {
   "cell_type": "code",
   "execution_count": 328,
   "metadata": {},
   "outputs": [
    {
     "name": "stdout",
     "output_type": "stream",
     "text": [
      "      age  smoker_Yes\n",
      "0      23        True\n",
      "1      18        True\n",
      "2      71        True\n",
      "3      67       False\n",
      "4      64       False\n",
      "...   ...         ...\n",
      "1309   35        True\n",
      "1310   33       False\n",
      "1311   21        True\n",
      "1312   46       False\n",
      "1313   41        True\n",
      "\n",
      "[1314 rows x 2 columns]\n",
      "       Dead\n",
      "0     False\n",
      "1     False\n",
      "2      True\n",
      "3     False\n",
      "4     False\n",
      "...     ...\n",
      "1309  False\n",
      "1310  False\n",
      "1311  False\n",
      "1312  False\n",
      "1313  False\n",
      "\n",
      "[1314 rows x 1 columns]\n"
     ]
    }
   ],
   "source": [
    "X =pd.get_dummies(X, drop_first=True)\n",
    "print(X)\n",
    "\n",
    "y = pd.get_dummies(y, drop_first=True)\n",
    "print(y)"
   ]
  },
  {
   "cell_type": "code",
   "execution_count": 329,
   "metadata": {},
   "outputs": [],
   "source": [
    "X_train, X_test, y_train, y_test = train_test_split(X, y, random_state=42)"
   ]
  },
  {
   "cell_type": "code",
   "execution_count": 336,
   "metadata": {},
   "outputs": [],
   "source": [
    "max_depth_range = range(1, 20)\n",
    "\n",
    "max_depth_list = []\n",
    "train_acc_list = []\n",
    "test_acc_list = []\n",
    "time_taken = []\n",
    "search_list = [\"manual\", \"grid\", \"bayes\", \"random\"]\n",
    "\n",
    "start_time = time.time()\n",
    "for max_depth in max_depth_range: \n",
    "    tree = DecisionTreeClassifier(max_depth=max_depth, random_state=42)\n",
    "    tree.fit(X_train,y_train)\n",
    "    y_preds = tree.predict(X_train)\n",
    "    train_acc = accuracy_score(y_preds, y_train)\n",
    "    y_preds = tree.predict(X_test)\n",
    "    test_acc = accuracy_score(y_preds, y_test)\n",
    "    max_depth_list.append(max_depth)\n",
    "    train_acc_list.append(train_acc)\n",
    "    test_acc_list.append(test_acc)\n",
    "end_time = time.time()\n",
    "time_taken.append(end_time - start_time)"
   ]
  },
  {
   "cell_type": "code",
   "execution_count": 337,
   "metadata": {},
   "outputs": [
    {
     "name": "stdout",
     "output_type": "stream",
     "text": [
      "0.8662613981762918\n",
      "{'max_depth': 1}\n"
     ]
    }
   ],
   "source": [
    "params = {\n",
    "    \"max_depth\": range(1,21)\n",
    "}\n",
    "\n",
    "grid = GridSearchCV(\n",
    "    estimator=DecisionTreeClassifier(random_state=42),\n",
    "    param_grid=params\n",
    ")\n",
    "\n",
    "start_time = time.time()\n",
    "grid.fit(X_train,y_train)\n",
    "end_time = time.time()\n",
    "time_taken.append(end_time - start_time)\n",
    "\n",
    "y_preds = grid.predict(X_train)\n",
    "train_acc = accuracy_score(y_preds, y_train)\n",
    "y_preds = grid.predict(X_test)\n",
    "test_acc = accuracy_score(y_preds, y_test)\n",
    "\n",
    "print(test_acc)\n",
    "print(grid.best_params_)"
   ]
  },
  {
   "cell_type": "code",
   "execution_count": 338,
   "metadata": {},
   "outputs": [
    {
     "name": "stderr",
     "output_type": "stream",
     "text": [
      "/opt/miniconda3/envs/berkeley_ai/lib/python3.11/site-packages/skopt/optimizer/optimizer.py:517: UserWarning: The objective has been evaluated at point [np.int64(21)] before, using random point [np.int64(19)]\n",
      "  warnings.warn(\n",
      "/opt/miniconda3/envs/berkeley_ai/lib/python3.11/site-packages/skopt/optimizer/optimizer.py:517: UserWarning: The objective has been evaluated at point [np.int64(3)] before, using random point [np.int64(12)]\n",
      "  warnings.warn(\n",
      "/opt/miniconda3/envs/berkeley_ai/lib/python3.11/site-packages/skopt/optimizer/optimizer.py:517: UserWarning: The objective has been evaluated at point [np.int64(12)] before, using random point [np.int64(20)]\n",
      "  warnings.warn(\n",
      "/opt/miniconda3/envs/berkeley_ai/lib/python3.11/site-packages/skopt/optimizer/optimizer.py:517: UserWarning: The objective has been evaluated at point [np.int64(17)] before, using random point [np.int64(4)]\n",
      "  warnings.warn(\n",
      "/opt/miniconda3/envs/berkeley_ai/lib/python3.11/site-packages/skopt/optimizer/optimizer.py:517: UserWarning: The objective has been evaluated at point [np.int64(1)] before, using random point [np.int64(2)]\n",
      "  warnings.warn(\n",
      "/opt/miniconda3/envs/berkeley_ai/lib/python3.11/site-packages/skopt/optimizer/optimizer.py:517: UserWarning: The objective has been evaluated at point [np.int64(1)] before, using random point [np.int64(6)]\n",
      "  warnings.warn(\n",
      "/opt/miniconda3/envs/berkeley_ai/lib/python3.11/site-packages/skopt/optimizer/optimizer.py:517: UserWarning: The objective has been evaluated at point [np.int64(1)] before, using random point [np.int64(17)]\n",
      "  warnings.warn(\n",
      "/opt/miniconda3/envs/berkeley_ai/lib/python3.11/site-packages/skopt/optimizer/optimizer.py:517: UserWarning: The objective has been evaluated at point [np.int64(1)] before, using random point [np.int64(17)]\n",
      "  warnings.warn(\n",
      "/opt/miniconda3/envs/berkeley_ai/lib/python3.11/site-packages/skopt/optimizer/optimizer.py:517: UserWarning: The objective has been evaluated at point [np.int64(1)] before, using random point [np.int64(9)]\n",
      "  warnings.warn(\n",
      "/opt/miniconda3/envs/berkeley_ai/lib/python3.11/site-packages/skopt/optimizer/optimizer.py:517: UserWarning: The objective has been evaluated at point [np.int64(1)] before, using random point [np.int64(2)]\n",
      "  warnings.warn(\n",
      "/opt/miniconda3/envs/berkeley_ai/lib/python3.11/site-packages/skopt/optimizer/optimizer.py:517: UserWarning: The objective has been evaluated at point [np.int64(19)] before, using random point [np.int64(15)]\n",
      "  warnings.warn(\n",
      "/opt/miniconda3/envs/berkeley_ai/lib/python3.11/site-packages/skopt/optimizer/optimizer.py:517: UserWarning: The objective has been evaluated at point [np.int64(11)] before, using random point [np.int64(18)]\n",
      "  warnings.warn(\n",
      "/opt/miniconda3/envs/berkeley_ai/lib/python3.11/site-packages/skopt/optimizer/optimizer.py:517: UserWarning: The objective has been evaluated at point [np.int64(1)] before, using random point [np.int64(8)]\n",
      "  warnings.warn(\n",
      "/opt/miniconda3/envs/berkeley_ai/lib/python3.11/site-packages/skopt/optimizer/optimizer.py:517: UserWarning: The objective has been evaluated at point [np.int64(1)] before, using random point [np.int64(3)]\n",
      "  warnings.warn(\n",
      "/opt/miniconda3/envs/berkeley_ai/lib/python3.11/site-packages/skopt/optimizer/optimizer.py:517: UserWarning: The objective has been evaluated at point [np.int64(19)] before, using random point [np.int64(2)]\n",
      "  warnings.warn(\n",
      "/opt/miniconda3/envs/berkeley_ai/lib/python3.11/site-packages/skopt/optimizer/optimizer.py:517: UserWarning: The objective has been evaluated at point [np.int64(9)] before, using random point [np.int64(6)]\n",
      "  warnings.warn(\n",
      "/opt/miniconda3/envs/berkeley_ai/lib/python3.11/site-packages/skopt/optimizer/optimizer.py:517: UserWarning: The objective has been evaluated at point [np.int64(13)] before, using random point [np.int64(11)]\n",
      "  warnings.warn(\n",
      "/opt/miniconda3/envs/berkeley_ai/lib/python3.11/site-packages/skopt/optimizer/optimizer.py:517: UserWarning: The objective has been evaluated at point [np.int64(1)] before, using random point [np.int64(13)]\n",
      "  warnings.warn(\n",
      "/opt/miniconda3/envs/berkeley_ai/lib/python3.11/site-packages/skopt/optimizer/optimizer.py:517: UserWarning: The objective has been evaluated at point [np.int64(20)] before, using random point [np.int64(10)]\n",
      "  warnings.warn(\n",
      "/opt/miniconda3/envs/berkeley_ai/lib/python3.11/site-packages/skopt/optimizer/optimizer.py:517: UserWarning: The objective has been evaluated at point [np.int64(1)] before, using random point [np.int64(3)]\n",
      "  warnings.warn(\n",
      "/opt/miniconda3/envs/berkeley_ai/lib/python3.11/site-packages/skopt/optimizer/optimizer.py:517: UserWarning: The objective has been evaluated at point [np.int64(1)] before, using random point [np.int64(12)]\n",
      "  warnings.warn(\n",
      "/opt/miniconda3/envs/berkeley_ai/lib/python3.11/site-packages/skopt/optimizer/optimizer.py:517: UserWarning: The objective has been evaluated at point [np.int64(7)] before, using random point [np.int64(15)]\n",
      "  warnings.warn(\n",
      "/opt/miniconda3/envs/berkeley_ai/lib/python3.11/site-packages/skopt/optimizer/optimizer.py:517: UserWarning: The objective has been evaluated at point [np.int64(1)] before, using random point [np.int64(20)]\n",
      "  warnings.warn(\n",
      "/opt/miniconda3/envs/berkeley_ai/lib/python3.11/site-packages/skopt/optimizer/optimizer.py:517: UserWarning: The objective has been evaluated at point [np.int64(11)] before, using random point [np.int64(9)]\n",
      "  warnings.warn(\n",
      "/opt/miniconda3/envs/berkeley_ai/lib/python3.11/site-packages/skopt/optimizer/optimizer.py:517: UserWarning: The objective has been evaluated at point [np.int64(1)] before, using random point [np.int64(16)]\n",
      "  warnings.warn(\n",
      "/opt/miniconda3/envs/berkeley_ai/lib/python3.11/site-packages/skopt/optimizer/optimizer.py:517: UserWarning: The objective has been evaluated at point [np.int64(1)] before, using random point [np.int64(12)]\n",
      "  warnings.warn(\n",
      "/opt/miniconda3/envs/berkeley_ai/lib/python3.11/site-packages/skopt/optimizer/optimizer.py:517: UserWarning: The objective has been evaluated at point [np.int64(5)] before, using random point [np.int64(9)]\n",
      "  warnings.warn(\n",
      "/opt/miniconda3/envs/berkeley_ai/lib/python3.11/site-packages/skopt/optimizer/optimizer.py:517: UserWarning: The objective has been evaluated at point [np.int64(5)] before, using random point [np.int64(12)]\n",
      "  warnings.warn(\n",
      "/opt/miniconda3/envs/berkeley_ai/lib/python3.11/site-packages/skopt/optimizer/optimizer.py:517: UserWarning: The objective has been evaluated at point [np.int64(13)] before, using random point [np.int64(20)]\n",
      "  warnings.warn(\n"
     ]
    },
    {
     "name": "stdout",
     "output_type": "stream",
     "text": [
      "0.8662613981762918\n",
      "OrderedDict([('max_depth', 1)])\n"
     ]
    }
   ],
   "source": [
    "params = {\n",
    "    \"max_depth\": (1,21)\n",
    "}\n",
    "\n",
    "grid = BayesSearchCV(\n",
    "    estimator=DecisionTreeClassifier(random_state=42),\n",
    "    search_spaces=params,\n",
    "    random_state=42\n",
    ")\n",
    "\n",
    "start_time = time.time()\n",
    "grid.fit(X_train,y_train)\n",
    "end_time = time.time()\n",
    "time_taken.append(end_time - start_time)\n",
    "\n",
    "y_preds = grid.predict(X_train)\n",
    "train_acc = accuracy_score(y_preds, y_train)\n",
    "y_preds = grid.predict(X_test)\n",
    "test_acc = accuracy_score(y_preds, y_test)\n",
    "\n",
    "print(test_acc)\n",
    "print(grid.best_params_)"
   ]
  },
  {
   "cell_type": "code",
   "execution_count": 339,
   "metadata": {},
   "outputs": [
    {
     "name": "stdout",
     "output_type": "stream",
     "text": [
      "0.8662613981762918\n",
      "{'max_depth': 1}\n"
     ]
    }
   ],
   "source": [
    "params = {\n",
    "    \"max_depth\": range(1,21)\n",
    "}\n",
    "\n",
    "grid = RandomizedSearchCV(\n",
    "    estimator=DecisionTreeClassifier(random_state=42),\n",
    "    param_distributions=params,\n",
    "    random_state=42\n",
    ")\n",
    "\n",
    "start_time = time.time()\n",
    "grid.fit(X_train,y_train)\n",
    "end_time = time.time()\n",
    "time_taken.append(end_time - start_time)\n",
    "\n",
    "y_preds = grid.predict(X_train)\n",
    "train_acc = accuracy_score(y_preds, y_train)\n",
    "y_preds = grid.predict(X_test)\n",
    "test_acc = accuracy_score(y_preds, y_test)\n",
    "\n",
    "print(test_acc)\n",
    "print(grid.best_params_)"
   ]
  },
  {
   "cell_type": "code",
   "execution_count": 340,
   "metadata": {},
   "outputs": [
    {
     "data": {
      "image/png": "[encoded data removed]",
      "text/plain": [
       "<Figure size 640x480 with 1 Axes>"
      ]
     },
     "metadata": {},
     "output_type": "display_data"
    },
    {
     "name": "stdout",
     "output_type": "stream",
     "text": [
      "optimal max depth =  3\n",
      "best train accuracy =  0.8477157360406091\n",
      "best test accuracy =  0.8662613981762918\n"
     ]
    }
   ],
   "source": [
    "plt.xlabel(\"max depth\")\n",
    "plt.xticks(range(1,20))\n",
    "plt.plot(max_depth_list, train_acc_list, label=\"train accuracy\", marker='o')\n",
    "plt.plot(max_depth_list, test_acc_list, label=\"test accuracy\", marker='o')\n",
    "\n",
    "plt.title(\"max_depth vs accuracy\")\n",
    "plt.legend()\n",
    "plt.grid(True)\n",
    "plt.show()\n",
    "\n",
    "print(\"optimal max depth = \", max_depth_list[2])\n",
    "print(\"best train accuracy = \", train_acc_list[2])\n",
    "print(\"best test accuracy = \", test_acc_list[2])"
   ]
  },
  {
   "cell_type": "code",
   "execution_count": 350,
   "metadata": {},
   "outputs": [
    {
     "name": "stdout",
     "output_type": "stream",
     "text": [
      "[0.1, 0.31, 19.08, 0.15]\n"
     ]
    }
   ],
   "source": [
    "time_taken = [round(x, 2) for x in time_taken]\n",
    "print(time_taken)"
   ]
  },
  {
   "cell_type": "code",
   "execution_count": 351,
   "metadata": {},
   "outputs": [
    {
     "data": {
      "image/png": "[encoded data removed]",
      "text/plain": [
       "<Figure size 640x480 with 1 Axes>"
      ]
     },
     "metadata": {},
     "output_type": "display_data"
    }
   ],
   "source": [
    "plt.title(\"search technique vs time taken (sec)\")\n",
    "plt.bar(search_list, time_taken)\n",
    "\n",
    "for i, v in enumerate(time_taken):\n",
    "    plt.text(i, v + 0.5, str(v), ha='center')  # Position above bars"
   ]
  },
  {
   "cell_type": "code",
   "execution_count": null,
   "metadata": {},
   "outputs": [],
   "source": []
  }
 ],
 "metadata": {
  "kernelspec": {
   "display_name": "Python 3 (ipykernel)",
   "language": "python",
   "name": "python3"
  },
  "language_info": {
   "codemirror_mode": {
    "name": "ipython",
    "version": 3
   },
   "file_extension": ".py",
   "mimetype": "text/x-python",
   "name": "python",
   "nbconvert_exporter": "python",
   "pygments_lexer": "ipython3",
   "version": "3.11.9"
  }
 },
 "nbformat": 4,
 "nbformat_minor": 4
}
