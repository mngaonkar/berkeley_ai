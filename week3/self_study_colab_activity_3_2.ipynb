{
 "cells": [
  {
   "cell_type": "markdown",
   "metadata": {
    "id": "6c5doPyXuIXl",
    "nbgrader": {
     "grade": false,
     "grade_id": "cell-5696c19aaccf1d26",
     "locked": true,
     "schema_version": 1,
     "solution": false
    }
   },
   "source": [
    "### Self-Study Colab Activity 3.2: Aggregation Operations\n",
    "\n",
    "**Expected Time: 60 Minutes**\n",
    "\n",
    "\n",
    "\n",
    "This activity focuses on using a DataFrame's `groupby` method.  Just to remind you, this method allows aggregation by a category or condition in the DataFrame.  The dataset for the activity again is the gapminder dataset that comes from `plotly`.\n",
    "\n",
    "## Index:\n",
    "\n",
    "- [Problem 1](#Problem-1:-Average-Life-Expectancy-by-Year)\n",
    "- [Problem 2](#Problem-2:-GDP-by-Continent)\n",
    "- [Problem 3](#Problem-3:-Aggregating-with-multiple-functions)\n",
    "- [Problem 4](#Problem-4:-Grouping-on-Numeric-Conditions)\n",
    "- [Problem 5](#Problem-5:-Multiple-Grouping)"
   ]
  },
  {
   "cell_type": "code",
   "execution_count": 2,
   "metadata": {
    "id": "DAH9zcCOuIXn"
   },
   "outputs": [],
   "source": [
    "import plotly.express as px\n",
    "import matplotlib.pyplot as plt\n",
    "import numpy as np\n",
    "import pandas as pd\n",
    "import seaborn as sns"
   ]
  },
  {
   "cell_type": "code",
   "execution_count": 3,
   "metadata": {
    "id": "OpHtfPokuIXn"
   },
   "outputs": [],
   "source": [
    "gapminder = px.data.gapminder()"
   ]
  },
  {
   "cell_type": "code",
   "execution_count": 4,
   "metadata": {
    "colab": {
     "base_uri": "https://localhost:8080/"
    },
    "id": "ogBPDLNfuIXo",
    "outputId": "84f27d24-bc90-48c8-ad91-eda34bead96c"
   },
   "outputs": [
    {
     "name": "stdout",
     "output_type": "stream",
     "text": [
      "<class 'pandas.core.frame.DataFrame'>\n",
      "RangeIndex: 1704 entries, 0 to 1703\n",
      "Data columns (total 8 columns):\n",
      " #   Column     Non-Null Count  Dtype  \n",
      "---  ------     --------------  -----  \n",
      " 0   country    1704 non-null   object \n",
      " 1   continent  1704 non-null   object \n",
      " 2   year       1704 non-null   int64  \n",
      " 3   lifeExp    1704 non-null   float64\n",
      " 4   pop        1704 non-null   int64  \n",
      " 5   gdpPercap  1704 non-null   float64\n",
      " 6   iso_alpha  1704 non-null   object \n",
      " 7   iso_num    1704 non-null   int64  \n",
      "dtypes: float64(2), int64(3), object(3)\n",
      "memory usage: 106.6+ KB\n"
     ]
    }
   ],
   "source": [
    "gapminder.info()"
   ]
  },
  {
   "cell_type": "code",
   "execution_count": 5,
   "metadata": {
    "colab": {
     "base_uri": "https://localhost:8080/",
     "height": 204
    },
    "id": "oANzfH7auIXo",
    "outputId": "4ba7dbb0-56b1-47a6-fb2f-88e34f8d60cd"
   },
   "outputs": [
    {
     "data": {
      "text/html": [
       "<div>\n",
       "<style scoped>\n",
       "    .dataframe tbody tr th:only-of-type {\n",
       "        vertical-align: middle;\n",
       "    }\n",
       "\n",
       "    .dataframe tbody tr th {\n",
       "        vertical-align: top;\n",
       "    }\n",
       "\n",
       "    .dataframe thead th {\n",
       "        text-align: right;\n",
       "    }\n",
       "</style>\n",
       "<table border=\"1\" class=\"dataframe\">\n",
       "  <thead>\n",
       "    <tr style=\"text-align: right;\">\n",
       "      <th></th>\n",
       "      <th>country</th>\n",
       "      <th>continent</th>\n",
       "      <th>year</th>\n",
       "      <th>lifeExp</th>\n",
       "      <th>pop</th>\n",
       "      <th>gdpPercap</th>\n",
       "      <th>iso_alpha</th>\n",
       "      <th>iso_num</th>\n",
       "    </tr>\n",
       "  </thead>\n",
       "  <tbody>\n",
       "    <tr>\n",
       "      <th>0</th>\n",
       "      <td>Afghanistan</td>\n",
       "      <td>Asia</td>\n",
       "      <td>1952</td>\n",
       "      <td>28.801</td>\n",
       "      <td>8425333</td>\n",
       "      <td>779.445314</td>\n",
       "      <td>AFG</td>\n",
       "      <td>4</td>\n",
       "    </tr>\n",
       "    <tr>\n",
       "      <th>1</th>\n",
       "      <td>Afghanistan</td>\n",
       "      <td>Asia</td>\n",
       "      <td>1957</td>\n",
       "      <td>30.332</td>\n",
       "      <td>9240934</td>\n",
       "      <td>820.853030</td>\n",
       "      <td>AFG</td>\n",
       "      <td>4</td>\n",
       "    </tr>\n",
       "    <tr>\n",
       "      <th>2</th>\n",
       "      <td>Afghanistan</td>\n",
       "      <td>Asia</td>\n",
       "      <td>1962</td>\n",
       "      <td>31.997</td>\n",
       "      <td>10267083</td>\n",
       "      <td>853.100710</td>\n",
       "      <td>AFG</td>\n",
       "      <td>4</td>\n",
       "    </tr>\n",
       "    <tr>\n",
       "      <th>3</th>\n",
       "      <td>Afghanistan</td>\n",
       "      <td>Asia</td>\n",
       "      <td>1967</td>\n",
       "      <td>34.020</td>\n",
       "      <td>11537966</td>\n",
       "      <td>836.197138</td>\n",
       "      <td>AFG</td>\n",
       "      <td>4</td>\n",
       "    </tr>\n",
       "    <tr>\n",
       "      <th>4</th>\n",
       "      <td>Afghanistan</td>\n",
       "      <td>Asia</td>\n",
       "      <td>1972</td>\n",
       "      <td>36.088</td>\n",
       "      <td>13079460</td>\n",
       "      <td>739.981106</td>\n",
       "      <td>AFG</td>\n",
       "      <td>4</td>\n",
       "    </tr>\n",
       "  </tbody>\n",
       "</table>\n",
       "</div>"
      ],
      "text/plain": [
       "       country continent  year  lifeExp       pop   gdpPercap iso_alpha  \\\n",
       "0  Afghanistan      Asia  1952   28.801   8425333  779.445314       AFG   \n",
       "1  Afghanistan      Asia  1957   30.332   9240934  820.853030       AFG   \n",
       "2  Afghanistan      Asia  1962   31.997  10267083  853.100710       AFG   \n",
       "3  Afghanistan      Asia  1967   34.020  11537966  836.197138       AFG   \n",
       "4  Afghanistan      Asia  1972   36.088  13079460  739.981106       AFG   \n",
       "\n",
       "   iso_num  \n",
       "0        4  \n",
       "1        4  \n",
       "2        4  \n",
       "3        4  \n",
       "4        4  "
      ]
     },
     "execution_count": 5,
     "metadata": {},
     "output_type": "execute_result"
    }
   ],
   "source": [
    "gapminder.head()"
   ]
  },
  {
   "cell_type": "markdown",
   "metadata": {
    "id": "5lNSIGgFuIXo",
    "nbgrader": {
     "grade": false,
     "grade_id": "cell-d88bf4c82e850d4d",
     "locked": true,
     "schema_version": 1,
     "solution": false
    }
   },
   "source": [
    "[Back to top](#Index:)\n",
    "\n",
    "### Problem 1: Average Life Expectancy by Year\n",
    "\n",
    "\n",
    "\n",
    "Use the `groupby` method on the `gapminder` DataFrame to group the values in the `year` column. Use a double square bracket notation to apply this operation on the `lifeExp` column. Then, use the pandas function `mean()` to  compute the average value.\n",
    "\n",
    "Assign your results as a DataFrame object to `ans1` below."
   ]
  },
  {
   "cell_type": "code",
   "execution_count": 9,
   "metadata": {
    "colab": {
     "base_uri": "https://localhost:8080/"
    },
    "id": "aD5vrWg6uIXp",
    "nbgrader": {
     "grade": false,
     "grade_id": "cell-16a2791261d90ccb",
     "locked": false,
     "schema_version": 1,
     "solution": true
    },
    "outputId": "d5892811-2cdf-46d6-b53a-60a33dd1823b"
   },
   "outputs": [
    {
     "name": "stdout",
     "output_type": "stream",
     "text": [
      "<class 'pandas.core.series.Series'>\n"
     ]
    },
    {
     "data": {
      "text/plain": [
       "year\n",
       "1952    49.057620\n",
       "1957    51.507401\n",
       "1962    53.609249\n",
       "1967    55.678290\n",
       "1972    57.647386\n",
       "1977    59.570157\n",
       "1982    61.533197\n",
       "1987    63.212613\n",
       "1992    64.160338\n",
       "1997    65.014676\n",
       "2002    65.694923\n",
       "2007    67.007423\n",
       "Name: lifeExp, dtype: float64"
      ]
     },
     "execution_count": 9,
     "metadata": {},
     "output_type": "execute_result"
    }
   ],
   "source": [
    "\n",
    "\n",
    "ans1 = gapminder.groupby(\"year\")[\"lifeExp\"].mean()\n",
    "\n",
    "\n",
    "\n",
    "# Answer check\n",
    "print(type(ans1))\n",
    "ans1"
   ]
  },
  {
   "cell_type": "markdown",
   "metadata": {
    "id": "Qf3uuhgYuIXp",
    "nbgrader": {
     "grade": false,
     "grade_id": "cell-d3c68409b987327e",
     "locked": true,
     "schema_version": 1,
     "solution": false
    }
   },
   "source": [
    "[Back to top](#Index:)\n",
    "\n",
    "### Problem 2: GDP by Continent\n",
    "\n",
    "\n",
    "\n",
    "Use the `groupby` method on the `gapminder` DataFrame to group the values in the `continent` column. Use a double square bracket notation to apply this operation on the `gdpPercap` column. Then, use the pandas function `median()` to compute the median value.\n",
    "\n",
    "\n",
    "Assign your response as a DataFrame to `ans2` below."
   ]
  },
  {
   "cell_type": "code",
   "execution_count": 14,
   "metadata": {
    "colab": {
     "base_uri": "https://localhost:8080/"
    },
    "id": "cpHEUmqguIXp",
    "nbgrader": {
     "grade": false,
     "grade_id": "cell-b0a0e009d74778e2",
     "locked": false,
     "schema_version": 1,
     "solution": true
    },
    "outputId": "5a0e24a4-767e-455f-ea4c-d7a716a66d1f"
   },
   "outputs": [
    {
     "name": "stdout",
     "output_type": "stream",
     "text": [
      "<class 'pandas.core.series.Series'>\n"
     ]
    },
    {
     "data": {
      "text/plain": [
       "continent\n",
       "Africa       1192.138217\n",
       "Americas     5465.509853\n",
       "Asia         2646.786844\n",
       "Europe      12081.749115\n",
       "Oceania     17983.303955\n",
       "Name: gdpPercap, dtype: float64"
      ]
     },
     "execution_count": 14,
     "metadata": {},
     "output_type": "execute_result"
    }
   ],
   "source": [
    "\n",
    "\n",
    "ans2 = gapminder.groupby(\"continent\")[\"gdpPercap\"].median()\n",
    "\n",
    "\n",
    "\n",
    "# Answer check\n",
    "print(type(ans2))\n",
    "ans2"
   ]
  },
  {
   "cell_type": "markdown",
   "metadata": {
    "id": "jsAVOSmEuIXq",
    "nbgrader": {
     "grade": false,
     "grade_id": "cell-a3a4e1fdf49ef022",
     "locked": true,
     "schema_version": 1,
     "solution": false
    }
   },
   "source": [
    "[Back to top](#Index:)\n",
    "\n",
    "### Problem 3: Aggregating with multiple functions\n",
    "\n",
    "\n",
    "\n",
    "Use the `groupby` method on the `gapminder` DataFrame to group the values in the `continent` column. Use a double square bracket notation to apply this operation on the `gdpPercap` column. Then, use the pandas function `agg()` with an argument equal to `['mean', 'median', 'std']` to compute the mean, the median, and the standard deviation.\n",
    "\n",
    "\n",
    "Assign your solution to `ans3` below."
   ]
  },
  {
   "cell_type": "code",
   "execution_count": 33,
   "metadata": {
    "colab": {
     "base_uri": "https://localhost:8080/"
    },
    "id": "4P7Y21aTuIXq",
    "nbgrader": {
     "grade": false,
     "grade_id": "cell-6cd2040035ebea49",
     "locked": false,
     "schema_version": 1,
     "solution": true
    },
    "outputId": "f06aa186-c3bc-49ce-c4b8-e27893c8119c"
   },
   "outputs": [
    {
     "name": "stdout",
     "output_type": "stream",
     "text": [
      "<class 'pandas.core.frame.DataFrame'>\n"
     ]
    },
    {
     "data": {
      "text/html": [
       "<div>\n",
       "<style scoped>\n",
       "    .dataframe tbody tr th:only-of-type {\n",
       "        vertical-align: middle;\n",
       "    }\n",
       "\n",
       "    .dataframe tbody tr th {\n",
       "        vertical-align: top;\n",
       "    }\n",
       "\n",
       "    .dataframe thead th {\n",
       "        text-align: right;\n",
       "    }\n",
       "</style>\n",
       "<table border=\"1\" class=\"dataframe\">\n",
       "  <thead>\n",
       "    <tr style=\"text-align: right;\">\n",
       "      <th></th>\n",
       "      <th>mean</th>\n",
       "      <th>median</th>\n",
       "      <th>std</th>\n",
       "    </tr>\n",
       "    <tr>\n",
       "      <th>continent</th>\n",
       "      <th></th>\n",
       "      <th></th>\n",
       "      <th></th>\n",
       "    </tr>\n",
       "  </thead>\n",
       "  <tbody>\n",
       "    <tr>\n",
       "      <th>Africa</th>\n",
       "      <td>2193.754578</td>\n",
       "      <td>1192.138217</td>\n",
       "      <td>2827.929863</td>\n",
       "    </tr>\n",
       "    <tr>\n",
       "      <th>Americas</th>\n",
       "      <td>7136.110356</td>\n",
       "      <td>5465.509853</td>\n",
       "      <td>6396.764112</td>\n",
       "    </tr>\n",
       "    <tr>\n",
       "      <th>Asia</th>\n",
       "      <td>7902.150428</td>\n",
       "      <td>2646.786844</td>\n",
       "      <td>14045.373112</td>\n",
       "    </tr>\n",
       "    <tr>\n",
       "      <th>Europe</th>\n",
       "      <td>14469.475533</td>\n",
       "      <td>12081.749115</td>\n",
       "      <td>9355.213498</td>\n",
       "    </tr>\n",
       "    <tr>\n",
       "      <th>Oceania</th>\n",
       "      <td>18621.609223</td>\n",
       "      <td>17983.303955</td>\n",
       "      <td>6358.983321</td>\n",
       "    </tr>\n",
       "  </tbody>\n",
       "</table>\n",
       "</div>"
      ],
      "text/plain": [
       "                   mean        median           std\n",
       "continent                                          \n",
       "Africa      2193.754578   1192.138217   2827.929863\n",
       "Americas    7136.110356   5465.509853   6396.764112\n",
       "Asia        7902.150428   2646.786844  14045.373112\n",
       "Europe     14469.475533  12081.749115   9355.213498\n",
       "Oceania    18621.609223  17983.303955   6358.983321"
      ]
     },
     "execution_count": 33,
     "metadata": {},
     "output_type": "execute_result"
    }
   ],
   "source": [
    "\n",
    "\n",
    "ans3 = gapminder.groupby(\"continent\")[\"gdpPercap\"].agg(['mean', 'median', 'std'])\n",
    "\n",
    "\n",
    "\n",
    "# Answer check\n",
    "print(type(ans3))\n",
    "ans3"
   ]
  },
  {
   "cell_type": "markdown",
   "metadata": {
    "id": "J3htL3obuIXq",
    "nbgrader": {
     "grade": false,
     "grade_id": "cell-0160b7d652af0a83",
     "locked": true,
     "schema_version": 1,
     "solution": false
    }
   },
   "source": [
    "[Back to top](#Index:)\n",
    "\n",
    "### Problem 4: Grouping on Numeric Conditions\n",
    "\n",
    "\n",
    "\n",
    "Besides grouping on categorical features, a numeric condition can also be used to split the data. For example, group the countries based on their population and calculate the average life expectancy for each group.\n",
    "\n",
    "Use the `groupby` method on the `gapminder` DataFrame to group the entries for which the `pop` column is greater than `300_000_000`. Use a double square bracket notation to apply this operation on the `lifeExp` column. Then, use the pandas function `mean()` to compute the average value.\n",
    "\n",
    "\n",
    "NOTE: This question should return two groups based on whether the population is greater than 300,000,000 (true) or not (false). In the next question, you will groupby multiple features."
   ]
  },
  {
   "cell_type": "code",
   "execution_count": 51,
   "metadata": {
    "colab": {
     "base_uri": "https://localhost:8080/"
    },
    "id": "_eAwJIz7uIXr",
    "nbgrader": {
     "grade": false,
     "grade_id": "cell-f4c50149a856c93c",
     "locked": false,
     "schema_version": 1,
     "solution": true
    },
    "outputId": "16118c35-0f53-4328-a672-e176785093fd"
   },
   "outputs": [
    {
     "name": "stdout",
     "output_type": "stream",
     "text": [
      "<class 'pandas.core.series.Series'>\n"
     ]
    },
    {
     "data": {
      "text/plain": [
       "pop\n",
       "False    59.491833\n",
       "True     58.306267\n",
       "Name: lifeExp, dtype: float64"
      ]
     },
     "execution_count": 51,
     "metadata": {},
     "output_type": "execute_result"
    }
   ],
   "source": [
    "\n",
    "\n",
    "ans4 = gapminder.groupby([gapminder[\"pop\"] > 300_000_000])[\"lifeExp\"].mean()\n",
    "\n",
    "\n",
    "\n",
    "# Answer check\n",
    "print(type(ans4))\n",
    "ans4"
   ]
  },
  {
   "cell_type": "markdown",
   "metadata": {
    "id": "2TzrQCWuuIXr",
    "nbgrader": {
     "grade": false,
     "grade_id": "cell-c32b82165fc539c2",
     "locked": true,
     "schema_version": 1,
     "solution": false
    }
   },
   "source": [
    "[Back to top](#Index:)\n",
    "\n",
    "### Problem 5: Multiple Grouping\n",
    "\n",
    "\n",
    "\n",
    "Finally, a groupby can be called on a hierarchy of conditions.  The list of group categories should be passed in order of the grouping hierarchy.  For example:\n",
    "\n",
    "```python\n",
    "gapminder.groupby(['continent', 'country'])\n",
    "```\n",
    "\n",
    "would first group on the continent and then each country within the continent.\n",
    "\n",
    "Selects the rows from the DataFrame `gapminder` where the value in the `continent` column is either `Americas` or `Europe`. For this step, use the `.isin()` method to create a boolean mask. Assign this result to `ans5a`.\n",
    "\n",
    "Use the `groupby` method on the `ans5a` DataFrame to group the entries in the columns `continent` and `country`. Use a double square bracket notation to apply this operation on the `lifeExp` column. Then, use the pandas function `mean()` to compute the average value."
   ]
  },
  {
   "cell_type": "code",
   "execution_count": 62,
   "metadata": {
    "colab": {
     "base_uri": "https://localhost:8080/",
     "height": 190
    },
    "id": "79kNK_LBuIXr",
    "nbgrader": {
     "grade": false,
     "grade_id": "cell-319ca595aa2d7afd",
     "locked": false,
     "schema_version": 1,
     "solution": true
    },
    "outputId": "f1ea5733-3689-4f41-c012-f87b6d1abe00"
   },
   "outputs": [
    {
     "name": "stdout",
     "output_type": "stream",
     "text": [
      "<class 'pandas.core.series.Series'>\n"
     ]
    },
    {
     "data": {
      "text/plain": [
       "continent  country  \n",
       "Americas   Argentina    69.060417\n",
       "           Bolivia      52.504583\n",
       "           Brazil       62.239500\n",
       "           Canada       74.902750\n",
       "           Chile        67.430917\n",
       "Name: lifeExp, dtype: float64"
      ]
     },
     "execution_count": 62,
     "metadata": {},
     "output_type": "execute_result"
    }
   ],
   "source": [
    "\n",
    "\n",
    "ans5a = gapminder[gapminder[\"continent\"].isin(['Americas', 'Europe'])].groupby(['continent', 'country'])[\"lifeExp\"].mean()\n",
    "\n",
    "\n",
    "\n",
    "# Answer check\n",
    "print(type(ans5a))\n",
    "ans5a.head()"
   ]
  },
  {
   "cell_type": "code",
   "execution_count": null,
   "metadata": {
    "id": "RfRWlSRhuIXs"
   },
   "outputs": [],
   "source": []
  }
 ],
 "metadata": {
  "celltoolbar": "Create Assignment",
  "colab": {
   "provenance": []
  },
  "kernelspec": {
   "display_name": "Python 3 (ipykernel)",
   "language": "python",
   "name": "python3"
  },
  "language_info": {
   "codemirror_mode": {
    "name": "ipython",
    "version": 3
   },
   "file_extension": ".py",
   "mimetype": "text/x-python",
   "name": "python",
   "nbconvert_exporter": "python",
   "pygments_lexer": "ipython3",
   "version": "3.11.9"
  }
 },
 "nbformat": 4,
 "nbformat_minor": 4
}
